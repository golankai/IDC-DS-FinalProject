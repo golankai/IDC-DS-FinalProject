{
 "cells": [
  {
   "cell_type": "markdown",
   "metadata": {},
   "source": [
    "# DT on the clean Data"
   ]
  },
  {
   "cell_type": "code",
   "execution_count": 99,
   "metadata": {},
   "outputs": [],
   "source": [
    "import numpy as np\n",
    "import pandas as pd\n",
    "import matplotlib.pyplot as plt\n",
    "from sklearn.model_selection import train_test_split\n",
    "from sklearn import preprocessing, tree\n",
    "from sklearn.tree import DecisionTreeClassifier\n",
    "from sklearn.metrics import accuracy_score, confusion_matrix\n",
    "import matplotlib.pyplot as plt\n",
    "import seaborn as sns\n",
    "from sklearn.ensemble import RandomForestClassifier\n",
    "import graphviz\n",
    "import pydotplus\n",
    "import os"
   ]
  },
  {
   "cell_type": "code",
   "execution_count": 3,
   "metadata": {},
   "outputs": [],
   "source": [
    "# make matplotlib figures appear inline in the notebook\n",
    "%matplotlib inline\n",
    "plt.rcParams['figure.figsize'] = (8, 6) # set default size of plots\n",
    "plt.rcParams['image.interpolation'] = 'nearest'\n",
    "plt.rcParams['image.cmap'] = 'gray'"
   ]
  },
  {
   "cell_type": "markdown",
   "metadata": {},
   "source": [
    "## Statistical analysis"
   ]
  },
  {
   "cell_type": "code",
   "execution_count": 24,
   "metadata": {},
   "outputs": [
    {
     "data": {
      "text/html": [
       "<div>\n",
       "<style scoped>\n",
       "    .dataframe tbody tr th:only-of-type {\n",
       "        vertical-align: middle;\n",
       "    }\n",
       "\n",
       "    .dataframe tbody tr th {\n",
       "        vertical-align: top;\n",
       "    }\n",
       "\n",
       "    .dataframe thead th {\n",
       "        text-align: right;\n",
       "    }\n",
       "</style>\n",
       "<table border=\"1\" class=\"dataframe\">\n",
       "  <thead>\n",
       "    <tr style=\"text-align: right;\">\n",
       "      <th></th>\n",
       "      <th>Location</th>\n",
       "      <th>Age</th>\n",
       "      <th>Gender</th>\n",
       "      <th>Interested_in</th>\n",
       "      <th>Current_status</th>\n",
       "      <th>Usually</th>\n",
       "      <th>Confidence</th>\n",
       "      <th>Bars</th>\n",
       "      <th>Social_network</th>\n",
       "      <th>Dating apps</th>\n",
       "      <th>...</th>\n",
       "      <th>Badoo</th>\n",
       "      <th>num_apps</th>\n",
       "      <th>use_for_Long_term</th>\n",
       "      <th>use_for_Short_term</th>\n",
       "      <th>use_for_Friends</th>\n",
       "      <th>affraid_bad_people</th>\n",
       "      <th>not_seen_there</th>\n",
       "      <th>too_much_not_myType</th>\n",
       "      <th>cannot_find_somebody_I_like</th>\n",
       "      <th>Kukumbo?</th>\n",
       "    </tr>\n",
       "  </thead>\n",
       "  <tbody>\n",
       "    <tr>\n",
       "      <th>3</th>\n",
       "      <td>2</td>\n",
       "      <td>2</td>\n",
       "      <td>1</td>\n",
       "      <td>1</td>\n",
       "      <td>2</td>\n",
       "      <td>2</td>\n",
       "      <td>1</td>\n",
       "      <td>3</td>\n",
       "      <td>4</td>\n",
       "      <td>1</td>\n",
       "      <td>...</td>\n",
       "      <td>0</td>\n",
       "      <td>1</td>\n",
       "      <td>0</td>\n",
       "      <td>0</td>\n",
       "      <td>0</td>\n",
       "      <td>0</td>\n",
       "      <td>1</td>\n",
       "      <td>0</td>\n",
       "      <td>0</td>\n",
       "      <td>1</td>\n",
       "    </tr>\n",
       "    <tr>\n",
       "      <th>4</th>\n",
       "      <td>0</td>\n",
       "      <td>2</td>\n",
       "      <td>0</td>\n",
       "      <td>2</td>\n",
       "      <td>2</td>\n",
       "      <td>2</td>\n",
       "      <td>2</td>\n",
       "      <td>2</td>\n",
       "      <td>3</td>\n",
       "      <td>5</td>\n",
       "      <td>...</td>\n",
       "      <td>0</td>\n",
       "      <td>2</td>\n",
       "      <td>0</td>\n",
       "      <td>1</td>\n",
       "      <td>0</td>\n",
       "      <td>1</td>\n",
       "      <td>0</td>\n",
       "      <td>1</td>\n",
       "      <td>1</td>\n",
       "      <td>1</td>\n",
       "    </tr>\n",
       "    <tr>\n",
       "      <th>9</th>\n",
       "      <td>0</td>\n",
       "      <td>2</td>\n",
       "      <td>1</td>\n",
       "      <td>1</td>\n",
       "      <td>2</td>\n",
       "      <td>0</td>\n",
       "      <td>2</td>\n",
       "      <td>3</td>\n",
       "      <td>4</td>\n",
       "      <td>3</td>\n",
       "      <td>...</td>\n",
       "      <td>0</td>\n",
       "      <td>1</td>\n",
       "      <td>0</td>\n",
       "      <td>1</td>\n",
       "      <td>0</td>\n",
       "      <td>1</td>\n",
       "      <td>1</td>\n",
       "      <td>1</td>\n",
       "      <td>0</td>\n",
       "      <td>1</td>\n",
       "    </tr>\n",
       "    <tr>\n",
       "      <th>12</th>\n",
       "      <td>0</td>\n",
       "      <td>2</td>\n",
       "      <td>1</td>\n",
       "      <td>1</td>\n",
       "      <td>1</td>\n",
       "      <td>0</td>\n",
       "      <td>3</td>\n",
       "      <td>4</td>\n",
       "      <td>3</td>\n",
       "      <td>3</td>\n",
       "      <td>...</td>\n",
       "      <td>0</td>\n",
       "      <td>1</td>\n",
       "      <td>1</td>\n",
       "      <td>0</td>\n",
       "      <td>1</td>\n",
       "      <td>0</td>\n",
       "      <td>0</td>\n",
       "      <td>1</td>\n",
       "      <td>1</td>\n",
       "      <td>1</td>\n",
       "    </tr>\n",
       "    <tr>\n",
       "      <th>14</th>\n",
       "      <td>0</td>\n",
       "      <td>1</td>\n",
       "      <td>1</td>\n",
       "      <td>1</td>\n",
       "      <td>2</td>\n",
       "      <td>2</td>\n",
       "      <td>3</td>\n",
       "      <td>5</td>\n",
       "      <td>5</td>\n",
       "      <td>2</td>\n",
       "      <td>...</td>\n",
       "      <td>0</td>\n",
       "      <td>1</td>\n",
       "      <td>1</td>\n",
       "      <td>0</td>\n",
       "      <td>0</td>\n",
       "      <td>0</td>\n",
       "      <td>0</td>\n",
       "      <td>0</td>\n",
       "      <td>1</td>\n",
       "      <td>1</td>\n",
       "    </tr>\n",
       "    <tr>\n",
       "      <th>...</th>\n",
       "      <td>...</td>\n",
       "      <td>...</td>\n",
       "      <td>...</td>\n",
       "      <td>...</td>\n",
       "      <td>...</td>\n",
       "      <td>...</td>\n",
       "      <td>...</td>\n",
       "      <td>...</td>\n",
       "      <td>...</td>\n",
       "      <td>...</td>\n",
       "      <td>...</td>\n",
       "      <td>...</td>\n",
       "      <td>...</td>\n",
       "      <td>...</td>\n",
       "      <td>...</td>\n",
       "      <td>...</td>\n",
       "      <td>...</td>\n",
       "      <td>...</td>\n",
       "      <td>...</td>\n",
       "      <td>...</td>\n",
       "      <td>...</td>\n",
       "    </tr>\n",
       "    <tr>\n",
       "      <th>404</th>\n",
       "      <td>0</td>\n",
       "      <td>2</td>\n",
       "      <td>0</td>\n",
       "      <td>2</td>\n",
       "      <td>2</td>\n",
       "      <td>2</td>\n",
       "      <td>0</td>\n",
       "      <td>4</td>\n",
       "      <td>4</td>\n",
       "      <td>5</td>\n",
       "      <td>...</td>\n",
       "      <td>0</td>\n",
       "      <td>2</td>\n",
       "      <td>1</td>\n",
       "      <td>1</td>\n",
       "      <td>0</td>\n",
       "      <td>0</td>\n",
       "      <td>0</td>\n",
       "      <td>1</td>\n",
       "      <td>0</td>\n",
       "      <td>1</td>\n",
       "    </tr>\n",
       "    <tr>\n",
       "      <th>407</th>\n",
       "      <td>0</td>\n",
       "      <td>2</td>\n",
       "      <td>1</td>\n",
       "      <td>1</td>\n",
       "      <td>2</td>\n",
       "      <td>2</td>\n",
       "      <td>2</td>\n",
       "      <td>3</td>\n",
       "      <td>2</td>\n",
       "      <td>3</td>\n",
       "      <td>...</td>\n",
       "      <td>0</td>\n",
       "      <td>3</td>\n",
       "      <td>1</td>\n",
       "      <td>0</td>\n",
       "      <td>0</td>\n",
       "      <td>0</td>\n",
       "      <td>0</td>\n",
       "      <td>0</td>\n",
       "      <td>0</td>\n",
       "      <td>1</td>\n",
       "    </tr>\n",
       "    <tr>\n",
       "      <th>408</th>\n",
       "      <td>2</td>\n",
       "      <td>2</td>\n",
       "      <td>0</td>\n",
       "      <td>2</td>\n",
       "      <td>2</td>\n",
       "      <td>2</td>\n",
       "      <td>3</td>\n",
       "      <td>3</td>\n",
       "      <td>4</td>\n",
       "      <td>4</td>\n",
       "      <td>...</td>\n",
       "      <td>0</td>\n",
       "      <td>0</td>\n",
       "      <td>0</td>\n",
       "      <td>0</td>\n",
       "      <td>0</td>\n",
       "      <td>1</td>\n",
       "      <td>1</td>\n",
       "      <td>0</td>\n",
       "      <td>0</td>\n",
       "      <td>1</td>\n",
       "    </tr>\n",
       "    <tr>\n",
       "      <th>409</th>\n",
       "      <td>0</td>\n",
       "      <td>2</td>\n",
       "      <td>0</td>\n",
       "      <td>2</td>\n",
       "      <td>2</td>\n",
       "      <td>2</td>\n",
       "      <td>1</td>\n",
       "      <td>4</td>\n",
       "      <td>3</td>\n",
       "      <td>1</td>\n",
       "      <td>...</td>\n",
       "      <td>0</td>\n",
       "      <td>1</td>\n",
       "      <td>0</td>\n",
       "      <td>1</td>\n",
       "      <td>0</td>\n",
       "      <td>0</td>\n",
       "      <td>0</td>\n",
       "      <td>0</td>\n",
       "      <td>1</td>\n",
       "      <td>1</td>\n",
       "    </tr>\n",
       "    <tr>\n",
       "      <th>411</th>\n",
       "      <td>0</td>\n",
       "      <td>2</td>\n",
       "      <td>1</td>\n",
       "      <td>1</td>\n",
       "      <td>2</td>\n",
       "      <td>2</td>\n",
       "      <td>0</td>\n",
       "      <td>4</td>\n",
       "      <td>3</td>\n",
       "      <td>2</td>\n",
       "      <td>...</td>\n",
       "      <td>0</td>\n",
       "      <td>2</td>\n",
       "      <td>1</td>\n",
       "      <td>1</td>\n",
       "      <td>0</td>\n",
       "      <td>0</td>\n",
       "      <td>1</td>\n",
       "      <td>0</td>\n",
       "      <td>1</td>\n",
       "      <td>1</td>\n",
       "    </tr>\n",
       "  </tbody>\n",
       "</table>\n",
       "<p>255 rows × 34 columns</p>\n",
       "</div>"
      ],
      "text/plain": [
       "     Location  Age  Gender  Interested_in  Current_status  Usually  \\\n",
       "3           2    2       1              1               2        2   \n",
       "4           0    2       0              2               2        2   \n",
       "9           0    2       1              1               2        0   \n",
       "12          0    2       1              1               1        0   \n",
       "14          0    1       1              1               2        2   \n",
       "..        ...  ...     ...            ...             ...      ...   \n",
       "404         0    2       0              2               2        2   \n",
       "407         0    2       1              1               2        2   \n",
       "408         2    2       0              2               2        2   \n",
       "409         0    2       0              2               2        2   \n",
       "411         0    2       1              1               2        2   \n",
       "\n",
       "     Confidence  Bars  Social_network  Dating apps  ...  Badoo  num_apps  \\\n",
       "3             1     3               4            1  ...      0         1   \n",
       "4             2     2               3            5  ...      0         2   \n",
       "9             2     3               4            3  ...      0         1   \n",
       "12            3     4               3            3  ...      0         1   \n",
       "14            3     5               5            2  ...      0         1   \n",
       "..          ...   ...             ...          ...  ...    ...       ...   \n",
       "404           0     4               4            5  ...      0         2   \n",
       "407           2     3               2            3  ...      0         3   \n",
       "408           3     3               4            4  ...      0         0   \n",
       "409           1     4               3            1  ...      0         1   \n",
       "411           0     4               3            2  ...      0         2   \n",
       "\n",
       "     use_for_Long_term  use_for_Short_term  use_for_Friends  \\\n",
       "3                    0                   0                0   \n",
       "4                    0                   1                0   \n",
       "9                    0                   1                0   \n",
       "12                   1                   0                1   \n",
       "14                   1                   0                0   \n",
       "..                 ...                 ...              ...   \n",
       "404                  1                   1                0   \n",
       "407                  1                   0                0   \n",
       "408                  0                   0                0   \n",
       "409                  0                   1                0   \n",
       "411                  1                   1                0   \n",
       "\n",
       "     affraid_bad_people  not_seen_there  too_much_not_myType  \\\n",
       "3                     0               1                    0   \n",
       "4                     1               0                    1   \n",
       "9                     1               1                    1   \n",
       "12                    0               0                    1   \n",
       "14                    0               0                    0   \n",
       "..                  ...             ...                  ...   \n",
       "404                   0               0                    1   \n",
       "407                   0               0                    0   \n",
       "408                   1               1                    0   \n",
       "409                   0               0                    0   \n",
       "411                   0               1                    0   \n",
       "\n",
       "     cannot_find_somebody_I_like  Kukumbo?  \n",
       "3                              0         1  \n",
       "4                              1         1  \n",
       "9                              0         1  \n",
       "12                             1         1  \n",
       "14                             1         1  \n",
       "..                           ...       ...  \n",
       "404                            0         1  \n",
       "407                            0         1  \n",
       "408                            0         1  \n",
       "409                            1         1  \n",
       "411                            1         1  \n",
       "\n",
       "[255 rows x 34 columns]"
      ]
     },
     "execution_count": 24,
     "metadata": {},
     "output_type": "execute_result"
    }
   ],
   "source": [
    "df = pd.read_csv('K_clean_data.csv')\n",
    "df_singles = df[df['Current_status'] > 0]\n",
    "df_singles"
   ]
  },
  {
   "cell_type": "code",
   "execution_count": 5,
   "metadata": {},
   "outputs": [
    {
     "data": {
      "text/plain": [
       "Index(['Location', 'Age', 'Gender', 'Interested_in', 'Current_status',\n",
       "       'Usually', 'Confidence', 'Bars', 'Social_network', 'Dating apps',\n",
       "       'Through_a_friend', 'Street', 'experience', 'frequently_use', 'paid',\n",
       "       'swipes_are', 'look_for_Short_term', 'look_for_Long_term', 'Tinder',\n",
       "       'Bumble', 'OkCupid', 'Grinder', 'Hinge', 'Atraf', 'Badoo', 'num_apps',\n",
       "       'use_for_Long_term', 'use_for_Short_term', 'use_for_Friends',\n",
       "       'affraid_bad_people', 'not_seen_there', 'too_much_not_myType',\n",
       "       'cannot_find_somebody_I_like', 'Kukumbo?'],\n",
       "      dtype='object')"
      ]
     },
     "execution_count": 5,
     "metadata": {},
     "output_type": "execute_result"
    }
   ],
   "source": [
    "df.columns"
   ]
  },
  {
   "cell_type": "code",
   "execution_count": 6,
   "metadata": {},
   "outputs": [],
   "source": [
    "cor_mat_df = df[['Age','Gender','Interested_in','Current_status','Usually','Confidence',\n",
    "                 'Bars','Social_network','Dating apps','Through_a_friend','Street',\n",
    "                 'experience','frequently_use','paid','swipes_are','look_for_Short_term','look_for_Long_term',\n",
    "                 'Tinder','Bumble', 'OkCupid', 'Grinder', 'Hinge', 'Atraf', 'Badoo','num_apps',\n",
    "                 'use_for_Long_term','use_for_Short_term','use_for_Friends',\n",
    "                 'affraid_bad_people','not_seen_there','too_much_not_myType','cannot_find_somebody_I_like','Kukumbo?']]\n",
    "corr_matrix = cor_mat_df.corr(method='pearson')"
   ]
  },
  {
   "cell_type": "code",
   "execution_count": 23,
   "metadata": {},
   "outputs": [],
   "source": [
    "#save to pdf\n",
    "corr_matrix.to_csv('corrolation_matrix.csv')   "
   ]
  },
  {
   "cell_type": "code",
   "execution_count": 67,
   "metadata": {},
   "outputs": [
    {
     "data": {
      "text/html": [
       "<div>\n",
       "<style scoped>\n",
       "    .dataframe tbody tr th:only-of-type {\n",
       "        vertical-align: middle;\n",
       "    }\n",
       "\n",
       "    .dataframe tbody tr th {\n",
       "        vertical-align: top;\n",
       "    }\n",
       "\n",
       "    .dataframe thead th {\n",
       "        text-align: right;\n",
       "    }\n",
       "</style>\n",
       "<table border=\"1\" class=\"dataframe\">\n",
       "  <thead>\n",
       "    <tr style=\"text-align: right;\">\n",
       "      <th></th>\n",
       "      <th>Gender</th>\n",
       "      <th>affraid_bad_people</th>\n",
       "      <th>not_seen_there</th>\n",
       "      <th>too_much_not_myType</th>\n",
       "      <th>cannot_find_somebody_I_like</th>\n",
       "    </tr>\n",
       "  </thead>\n",
       "  <tbody>\n",
       "    <tr>\n",
       "      <th>0</th>\n",
       "      <td>0</td>\n",
       "      <td>0.341667</td>\n",
       "      <td>0.400000</td>\n",
       "      <td>0.416667</td>\n",
       "      <td>0.316667</td>\n",
       "    </tr>\n",
       "    <tr>\n",
       "      <th>1</th>\n",
       "      <td>1</td>\n",
       "      <td>0.148148</td>\n",
       "      <td>0.266667</td>\n",
       "      <td>0.459259</td>\n",
       "      <td>0.481481</td>\n",
       "    </tr>\n",
       "  </tbody>\n",
       "</table>\n",
       "</div>"
      ],
      "text/plain": [
       "   Gender  affraid_bad_people  not_seen_there  too_much_not_myType  \\\n",
       "0       0            0.341667        0.400000             0.416667   \n",
       "1       1            0.148148        0.266667             0.459259   \n",
       "\n",
       "   cannot_find_somebody_I_like  \n",
       "0                     0.316667  \n",
       "1                     0.481481  "
      ]
     },
     "execution_count": 67,
     "metadata": {},
     "output_type": "execute_result"
    }
   ],
   "source": [
    "rows = 'Gender'\n",
    "df_singles[[rows,'affraid_bad_people','not_seen_there','too_much_not_myType','cannot_find_somebody_I_like']].groupby(rows, as_index=False).mean().sort_values(by=rows, ascending=True)"
   ]
  },
  {
   "cell_type": "markdown",
   "metadata": {},
   "source": [
    "## Desicion Tree"
   ]
  },
  {
   "cell_type": "markdown",
   "metadata": {},
   "source": [
    "### Preperations"
   ]
  },
  {
   "cell_type": "code",
   "execution_count": 72,
   "metadata": {},
   "outputs": [],
   "source": [
    "X = df.drop('Kukumbo?',axis=1)\n",
    "y = pd.DataFrame(df['Kukumbo?'])\n",
    "X_train, X_test, y_train, y_test = train_test_split(X, y, test_size=0.3, random_state=1)"
   ]
  },
  {
   "cell_type": "code",
   "execution_count": 73,
   "metadata": {},
   "outputs": [],
   "source": [
    "X_singles = df_singles.drop('Kukumbo?',axis=1)\n",
    "y_singles = pd.DataFrame(df_singles['Kukumbo?'])\n",
    "X_train_singles, X_test_singles, y_train_singles, y_test_singles = train_test_split(\n",
    "    X_singles, y_singles, test_size=0.3, random_state=1)"
   ]
  },
  {
   "cell_type": "code",
   "execution_count": 74,
   "metadata": {},
   "outputs": [],
   "source": [
    "y_train = y_train.replace([0,1], ['No', 'Yes'])\n",
    "y_test = y_test.replace([0,1], ['No', 'Yes'])\n",
    "y_train_singles = y_train_singles.replace([0,1], ['No', 'Yes'])\n",
    "y_test_singles = y_test_singles.replace([0,1], ['No', 'Yes'])"
   ]
  },
  {
   "cell_type": "code",
   "execution_count": 75,
   "metadata": {},
   "outputs": [],
   "source": [
    "train = pd.concat([X_train,y_train],axis=1)\n",
    "train_singles = pd.concat([X_train_singles,y_train_singles],axis=1)\n",
    "classes = np.unique(y_train)"
   ]
  },
  {
   "cell_type": "code",
   "execution_count": 76,
   "metadata": {
    "scrolled": true
   },
   "outputs": [],
   "source": [
    "def plot_accuracy(train_acc, test_acc):  \n",
    "    ds = list(range(1, len(train_acc)+1))\n",
    "    plt.scatter(ds,train_acc, s=10,label='Train')\n",
    "    plt.scatter(ds,test_acc, s=10,label='Test')\n",
    "    plt.xlabel('Max-depth',fontsize=15)\n",
    "    plt.ylabel('Accuracy',fontsize=15)\n",
    "    plt.title('Accuracy as a function of max-depth on train & test data',fontsize=15)\n",
    "    plt.legend(fontsize=15)\n",
    "    plt.grid(axis='y')\n",
    "    plt.show()"
   ]
  },
  {
   "cell_type": "code",
   "execution_count": 126,
   "metadata": {},
   "outputs": [],
   "source": [
    "def build_tree(X_train, X_test=None, y_train=y_train, y_test=y_test, max_d=5,dir_name=None, to_pdf=True, to_plot=False):\n",
    "    train_acc = list()\n",
    "    test_acc = list()\n",
    "    ds = range(1,max_d)\n",
    "    best_acc_test = -1\n",
    "    \n",
    "    if to_pdf:\n",
    "        make_dir(dir_name)\n",
    "\n",
    "    for d in ds:\n",
    "        clf = DecisionTreeClassifier(max_depth=d)\n",
    "        clf.fit(X_train,y_train)\n",
    "        y_pred_train = clf.predict(X_train)\n",
    "        \n",
    "        if to_pdf:\n",
    "            # create a graph\n",
    "            dot_data = tree.export_graphviz(clf, out_file=None, \n",
    "                                           feature_names=list(X_train.columns),\n",
    "                                           class_names=list(classes),\n",
    "                                           filled=True)\n",
    "            graph = pydotplus.graph_from_dot_data(dot_data)\n",
    "        \n",
    "            #save to pdf\n",
    "            graph.write_pdf(f'{dir_name}_tree_{d}.pdf')\n",
    "        \n",
    "        if to_plot:\n",
    "            y_pred_test = clf.predict(X_test)\n",
    "            \n",
    "            train_acc.append(accuracy_score(y_train, y_pred_train))\n",
    "            cur_acc_test = accuracy_score(y_test, y_pred_test)\n",
    "            test_acc.append(cur_acc_test)\n",
    "        if cur_acc_test > best_acc_test:\n",
    "            y_pred_test_best = y_pred_test\n",
    "            best_acc_test = cur_acc_test\n",
    "            \n",
    "    if to_plot:\n",
    "        plot_accuracy(train_acc, test_acc)\n",
    "        return y_pred_test_best"
   ]
  },
  {
   "cell_type": "code",
   "execution_count": 87,
   "metadata": {},
   "outputs": [],
   "source": [
    "def make_dir(dir_name):\n",
    "    # Parent Directory path\n",
    "    parent_dir = os.path.dirname(os.path.realpath('DT.ipnb'))\n",
    "  \n",
    "    # Path\n",
    "    path = os.path.join(parent_dir, dir_name)\n",
    "  \n",
    "    # Create the directory\n",
    "    os.mkdir(path)"
   ]
  },
  {
   "cell_type": "code",
   "execution_count": 122,
   "metadata": {},
   "outputs": [],
   "source": [
    "def print_matrix(pred, true):\n",
    "    tn, fp, fn, tp = confusion_matrix(y_pred=pred, y_true=true) .ravel()\n",
    "    accuracy = (tp + tn) / (tn + fp + fn + tp)\n",
    "    sensitivity = tp / (tp + fn)\n",
    "    specificity = tn / (tn + fp)\n",
    "    presicion = tp / (tp + fp)\n",
    "    print(f'Accuracy: {accuracy * 100:.2f}%\\n'\n",
    "          f'Sensitivity: {sensitivity * 100:.2f}%\\n'\n",
    "          f'Specificity: {specificity * 100:.2f}%\\n'\n",
    "          f'Presicion: {presicion * 100:.2f}%'\n",
    "         )"
   ]
  },
  {
   "cell_type": "markdown",
   "metadata": {},
   "source": [
    "### Prediction"
   ]
  },
  {
   "cell_type": "code",
   "execution_count": 131,
   "metadata": {},
   "outputs": [
    {
     "data": {
      "image/png": "[encoded data removed]",
      "text/plain": [
       "<Figure size 576x432 with 1 Axes>"
      ]
     },
     "metadata": {
      "needs_background": "light"
     },
     "output_type": "display_data"
    },
    {
     "name": "stdout",
     "output_type": "stream",
     "text": [
      "Accuracy: 63.71%\n",
      "Sensitivity: 78.21%\n",
      "Specificity: 39.13%\n",
      "Presicion: 68.54%\n"
     ]
    }
   ],
   "source": [
    "# Train a DT on the data\n",
    "y_pred_test = build_tree(X_train=X_train, X_test=X_test, max_d=8, to_pdf=False, to_plot=True)\n",
    "print_matrix(y_pred_test, y_test) "
   ]
  },
  {
   "cell_type": "code",
   "execution_count": 128,
   "metadata": {},
   "outputs": [
    {
     "data": {
      "image/png": "[encoded data removed]",
      "text/plain": [
       "<Figure size 576x432 with 1 Axes>"
      ]
     },
     "metadata": {
      "needs_background": "light"
     },
     "output_type": "display_data"
    },
    {
     "name": "stdout",
     "output_type": "stream",
     "text": [
      "Accuracy: 68.83%\n",
      "Sensitivity: 79.63%\n",
      "Specificity: 43.48%\n",
      "Presicion: 76.79%\n"
     ]
    }
   ],
   "source": [
    "# Train a DT on the data of the singles only\n",
    "y_pred_test = build_tree(X_train=X_train_singles, y_train=y_train_singles, X_test=X_test_singles, y_test=y_test_singles,\n",
    "           max_d=8, to_pdf=False, to_plot=True)\n",
    "print_matrix(y_pred_test, y_test_singles) "
   ]
  },
  {
   "cell_type": "code",
   "execution_count": 17,
   "metadata": {},
   "outputs": [
    {
     "data": {
      "text/plain": [
       "62.9"
      ]
     },
     "execution_count": 17,
     "metadata": {},
     "output_type": "execute_result"
    }
   ],
   "source": [
    "# Train a Random Forest on the data\n",
    "random_forest = RandomForestClassifier(n_estimators=100)\n",
    "random_forest.fit(X_train, y_train.values.ravel())\n",
    "\n",
    "acc_random_forest = round(random_forest.score(X_test, y_test) * 100, 2)\n",
    "acc_random_forest"
   ]
  },
  {
   "cell_type": "markdown",
   "metadata": {},
   "source": [
    "# Title"
   ]
  },
  {
   "cell_type": "markdown",
   "metadata": {},
   "source": [
    "first we try to predict, we discovered bad results on the data. Then we saved to trees and analyze them. \n",
    "W saw that there is a bias on the main feature (- the root) since when we asked on experience all of those who have relationship or not used today apps do not have experience havs value 0. \n",
    "\n",
    "Then we decide to drop this column"
   ]
  },
  {
   "cell_type": "markdown",
   "metadata": {},
   "source": [
    "Second, since our main goal is not to predict and only to  find strong feature and information about what happen in the market we split to 2 cases:\n",
    "- build tree of all the data \n",
    "- bulid tree by 70% train and 30% test"
   ]
  },
  {
   "cell_type": "code",
   "execution_count": 18,
   "metadata": {},
   "outputs": [],
   "source": [
    "# work with train and test \n",
    "X_train_noExp = X_train.drop(columns=['experience'])\n",
    "X_test_noExp = X_test.drop(columns=['experience'])\n",
    "\n",
    "# work on all data \n",
    "X_all_noExp = X.drop(columns=['experience'])"
   ]
  },
  {
   "cell_type": "code",
   "execution_count": 19,
   "metadata": {},
   "outputs": [
    {
     "data": {
      "image/png": "[encoded data removed]",
      "text/plain": [
       "<Figure size 576x432 with 1 Axes>"
      ]
     },
     "metadata": {
      "needs_background": "light"
     },
     "output_type": "display_data"
    }
   ],
   "source": [
    "build_tree(X_train= X_train_noExp, X_test= X_test_noExp, max_d=20, dir_name= 'train_test_no_Exp', to_pdf=False, to_plot=True)"
   ]
  },
  {
   "cell_type": "code",
   "execution_count": 81,
   "metadata": {},
   "outputs": [
    {
     "ename": "NameError",
     "evalue": "name 'X_all_noExp' is not defined",
     "output_type": "error",
     "traceback": [
      "\u001b[1;31m---------------------------------------------------------------------------\u001b[0m",
      "\u001b[1;31mNameError\u001b[0m                                 Traceback (most recent call last)",
      "\u001b[1;32m<ipython-input-81-5a1bfe3bb5a7>\u001b[0m in \u001b[0;36m<module>\u001b[1;34m\u001b[0m\n\u001b[1;32m----> 1\u001b[1;33m \u001b[0mbuild_tree\u001b[0m\u001b[1;33m(\u001b[0m \u001b[0mX_train\u001b[0m\u001b[1;33m=\u001b[0m \u001b[0mX_all_noExp\u001b[0m\u001b[1;33m,\u001b[0m \u001b[0my_train\u001b[0m \u001b[1;33m=\u001b[0m \u001b[0my\u001b[0m\u001b[1;33m,\u001b[0m \u001b[0mmax_d\u001b[0m\u001b[1;33m=\u001b[0m\u001b[1;36m5\u001b[0m\u001b[1;33m,\u001b[0m \u001b[0mdir_name\u001b[0m \u001b[1;33m=\u001b[0m \u001b[1;34m'all_data_noExp'\u001b[0m\u001b[1;33m,\u001b[0m \u001b[0mto_pdf\u001b[0m\u001b[1;33m=\u001b[0m\u001b[1;32mTrue\u001b[0m\u001b[1;33m,\u001b[0m \u001b[0mto_plot\u001b[0m\u001b[1;33m=\u001b[0m\u001b[1;32mFalse\u001b[0m\u001b[1;33m)\u001b[0m\u001b[1;33m\u001b[0m\u001b[1;33m\u001b[0m\u001b[0m\n\u001b[0m",
      "\u001b[1;31mNameError\u001b[0m: name 'X_all_noExp' is not defined"
     ]
    }
   ],
   "source": [
    "build_tree( X_train= X_all_noExp, y_train = y, max_d=5, dir_name = 'all_data_noExp', to_pdf=True, to_plot=False)"
   ]
  },
  {
   "cell_type": "markdown",
   "metadata": {},
   "source": [
    "# Title 2"
   ]
  },
  {
   "cell_type": "markdown",
   "metadata": {},
   "source": [
    "we still have the same problem so think to try to drop all those who have a realationship "
   ]
  },
  {
   "cell_type": "code",
   "execution_count": 82,
   "metadata": {},
   "outputs": [],
   "source": [
    "build_tree(X_train=X_singles, y_train = y_singles, max_d=5, dir_name = 'all_data_no_Location', to_pdf=False, to_plot=False)"
   ]
  },
  {
   "cell_type": "code",
   "execution_count": 91,
   "metadata": {},
   "outputs": [],
   "source": [
    "X_cur = X_singles.drop(columns=['Location','experience','Current_status','Usually',\n",
    "                           'Tinder','Bumble', 'OkCupid', 'Grinder', 'Hinge', 'Atraf', 'Badoo'])\n",
    "build_tree(X_train=X_cur, y_train=y_singles, max_d=5, dir_name = 'singles_1', to_pdf=True, to_plot=False)"
   ]
  },
  {
   "cell_type": "code",
   "execution_count": 86,
   "metadata": {},
   "outputs": [
    {
     "name": "stdout",
     "output_type": "stream",
     "text": [
      "C:\\Users\\Owner\\Desktop\\studies\\20-21\\B\\מדע נתונים יישומי\\Project\n"
     ]
    }
   ],
   "source": [
    "\n"
   ]
  },
  {
   "cell_type": "code",
   "execution_count": null,
   "metadata": {},
   "outputs": [],
   "source": []
  }
 ],
 "metadata": {
  "kernelspec": {
   "display_name": "Python 3",
   "language": "python",
   "name": "python3"
  },
  "language_info": {
   "codemirror_mode": {
    "name": "ipython",
    "version": 3
   },
   "file_extension": ".py",
   "mimetype": "text/x-python",
   "name": "python",
   "nbconvert_exporter": "python",
   "pygments_lexer": "ipython3",
   "version": "3.8.5"
  }
 },
 "nbformat": 4,
 "nbformat_minor": 4
}
